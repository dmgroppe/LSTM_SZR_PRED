{
 "cells": [
  {
   "cell_type": "markdown",
   "metadata": {},
   "source": [
    "lstm_staeful.py from the Official Keras examples"
   ]
  },
  {
   "cell_type": "code",
   "execution_count": 1,
   "metadata": {},
   "outputs": [
    {
     "name": "stderr",
     "output_type": "stream",
     "text": [
      "/home/dgroppe/TFLOW_VE3/lib/python3.6/site-packages/h5py/__init__.py:36: FutureWarning: Conversion of the second argument of issubdtype from `float` to `np.floating` is deprecated. In future, it will be treated as `np.float64 == np.dtype(float).type`.\n",
      "  from ._conv import register_converters as _register_converters\n",
      "Using TensorFlow backend.\n"
     ]
    }
   ],
   "source": [
    "from __future__ import print_function\n",
    "import numpy as np\n",
    "import matplotlib.pyplot as plt\n",
    "import pandas as pd\n",
    "from keras.models import Sequential\n",
    "from keras.layers import Dense, GRU\n",
    "#from keras.layers import Dense, LSTM, GRU\n",
    "from keras.models import load_model\n",
    "%matplotlib inline"
   ]
  },
  {
   "cell_type": "code",
   "execution_count": 2,
   "metadata": {},
   "outputs": [],
   "source": [
    "# EDITABLE PARAMETERS\n",
    "# Read the documentation in the script head for more details\n",
    "# ----------------------------------------------------------\n",
    "\n",
    "# length of input\n",
    "input_len = 1000\n",
    "\n",
    "# The window length of the moving average used to generate\n",
    "# the output from the input in the input/output pair used\n",
    "# to train the LSTM\n",
    "# e.g. if tsteps=2 and input=[1, 2, 3, 4, 5],\n",
    "#      then output=[1.5, 2.5, 3.5, 4.5]\n",
    "tsteps = 4\n",
    "\n",
    "# The input sequence length that the LSTM is trained on for each output point\n",
    "lahead = 3\n",
    "\n",
    "# training parameters passed to \"model.fit(...)\"\n",
    "batch_size = 1\n",
    "epochs = 10"
   ]
  },
  {
   "cell_type": "code",
   "execution_count": 3,
   "metadata": {},
   "outputs": [
    {
     "name": "stdout",
     "output_type": "stream",
     "text": [
      "*********************************\n",
      "STATELESS LSTM WILL NOT CONVERGE\n",
      "*********************************\n",
      "Generating Data...\n"
     ]
    }
   ],
   "source": [
    "print(\"*\" * 33)\n",
    "if lahead >= tsteps:\n",
    "    print(\"STATELESS LSTM WILL ALSO CONVERGE\")\n",
    "else:\n",
    "    print(\"STATELESS LSTM WILL NOT CONVERGE\")\n",
    "print(\"*\" * 33)\n",
    "\n",
    "np.random.seed(1986)\n",
    "\n",
    "print('Generating Data...')\n",
    "\n",
    "\n",
    "def gen_uniform_amp(amp=1, xn=10000):\n",
    "    \"\"\"Generates uniform random data between\n",
    "    -amp and +amp\n",
    "    and of length xn\n",
    "\n",
    "    Arguments:\n",
    "        amp: maximum/minimum range of uniform data\n",
    "        xn: length of series\n",
    "    \"\"\"\n",
    "    data_input = np.random.uniform(-1 * amp, +1 * amp, xn)\n",
    "    data_input = pd.DataFrame(data_input)\n",
    "    return data_input"
   ]
  },
  {
   "cell_type": "code",
   "execution_count": 4,
   "metadata": {},
   "outputs": [
    {
     "name": "stdout",
     "output_type": "stream",
     "text": [
      "Input shape: (1000, 3)\n",
      "Output shape: (1000, 1)\n",
      "Input head: \n",
      "          0         1         2\n",
      "3  0.079500  0.021696 -0.084532\n",
      "4  0.008981  0.079500  0.021696\n",
      "5  0.040544  0.008981  0.079500\n",
      "6 -0.022773  0.040544  0.008981\n",
      "7  0.030332 -0.022773  0.040544\n",
      "Output head: \n",
      "          0\n",
      "3  0.007610\n",
      "4  0.006411\n",
      "5  0.037680\n",
      "6  0.026563\n",
      "7  0.014271\n",
      "Input tail: \n",
      "             0         1         2\n",
      "998   0.003984 -0.027833  0.010251\n",
      "999   0.028471  0.003984 -0.027833\n",
      "1000 -0.057877  0.028471  0.003984\n",
      "1001 -0.097307 -0.057877  0.028471\n",
      "1002 -0.080260 -0.097307 -0.057877\n",
      "Output tail: \n",
      "             0\n",
      "998   0.006631\n",
      "999   0.003718\n",
      "1000 -0.013314\n",
      "1001 -0.030682\n",
      "1002 -0.051743\n",
      "Plotting input and expected output\n"
     ]
    },
    {
     "data": {
      "text/plain": [
       "Text(0.5,1,'Input')"
      ]
     },
     "execution_count": 4,
     "metadata": {},
     "output_type": "execute_result"
    },
    {
     "data": {
      "image/png": "[encoded data removed]",
      "text/plain": [
       "<Figure size 432x288 with 1 Axes>"
      ]
     },
     "metadata": {},
     "output_type": "display_data"
    }
   ],
   "source": [
    "to_drop = max(tsteps - 1, lahead - 1)\n",
    "data_input = gen_uniform_amp(amp=0.1, xn=input_len + to_drop)\n",
    "\n",
    "# set the target to be a N-point average of the input\n",
    "expected_output = data_input.rolling(window=tsteps, center=False).mean()\n",
    "\n",
    "# when lahead > 1, need to convert the input to \"rolling window view\"\n",
    "# https://docs.scipy.org/doc/numpy/reference/generated/numpy.repeat.html\n",
    "if lahead > 1:\n",
    "    data_input = np.repeat(data_input.values, repeats=lahead, axis=1)\n",
    "    data_input = pd.DataFrame(data_input)\n",
    "    for i, c in enumerate(data_input.columns):\n",
    "        data_input[c] = data_input[c].shift(i)\n",
    "\n",
    "# drop the nan\n",
    "expected_output = expected_output[to_drop:]\n",
    "data_input = data_input[to_drop:]\n",
    "\n",
    "print('Input shape:', data_input.shape)\n",
    "print('Output shape:', expected_output.shape)\n",
    "print('Input head: ')\n",
    "print(data_input.head())\n",
    "print('Output head: ')\n",
    "print(expected_output.head())\n",
    "print('Input tail: ')\n",
    "print(data_input.tail())\n",
    "print('Output tail: ')\n",
    "print(expected_output.tail())\n",
    "\n",
    "print('Plotting input and expected output')\n",
    "plt.plot(data_input[0][:20], '.')\n",
    "plt.plot(expected_output[0][:20], '-')\n",
    "plt.legend(['Input', 'Expected output'])\n",
    "plt.title('Input')\n",
    "#plt.show()"
   ]
  },
  {
   "cell_type": "code",
   "execution_count": 5,
   "metadata": {},
   "outputs": [],
   "source": [
    "def create_model(stateful):\n",
    "    model = Sequential()\n",
    "    model.add(GRU(60,\n",
    "              input_shape=(lahead, 1),\n",
    "              batch_size=batch_size,\n",
    "              stateful=stateful))\n",
    "    #20=# of hidden units\n",
    "    model.add(Dense(1))\n",
    "    model.compile(loss='mse', optimizer='adam')\n",
    "    return model"
   ]
  },
  {
   "cell_type": "code",
   "execution_count": 6,
   "metadata": {},
   "outputs": [],
   "source": [
    "# split train/test data\n",
    "def split_data(x, y, ratio=0.8):\n",
    "    to_train = int(input_len * ratio)\n",
    "    # tweak to match with batch_size\n",
    "    to_train -= to_train % batch_size\n",
    "\n",
    "    x_train = x[:to_train]\n",
    "    y_train = y[:to_train]\n",
    "    x_test = x[to_train:]\n",
    "    y_test = y[to_train:]\n",
    "\n",
    "    # tweak to match with batch_size\n",
    "    to_drop = x.shape[0] % batch_size\n",
    "    if to_drop > 0:\n",
    "        x_test = x_test[:-1 * to_drop]\n",
    "        y_test = y_test[:-1 * to_drop]\n",
    "\n",
    "    # some reshaping\n",
    "    print(\"x.shape: {}\".format(x.shape))\n",
    "    reshape_3 = lambda x: x.values.reshape((x.shape[0], x.shape[1], 1))\n",
    "    x_train = reshape_3(x_train)\n",
    "    x_test = reshape_3(x_test)\n",
    "\n",
    "    reshape_2 = lambda x: x.values.reshape((x.shape[0], 1))\n",
    "    y_train = reshape_2(y_train)\n",
    "    y_test = reshape_2(y_test)\n",
    "\n",
    "    return (x_train, y_train), (x_test, y_test)"
   ]
  },
  {
   "cell_type": "code",
   "execution_count": 7,
   "metadata": {},
   "outputs": [
    {
     "name": "stdout",
     "output_type": "stream",
     "text": [
      "x.shape: (1000, 3)\n",
      "x_train.shape:  (800, 3, 1)\n",
      "y_train.shape:  (800, 1)\n",
      "x_test.shape:  (200, 3, 1)\n",
      "y_test.shape:  (200, 1)\n"
     ]
    }
   ],
   "source": [
    "(x_train, y_train), (x_test, y_test) = split_data(data_input, expected_output)\n",
    "print('x_train.shape: ', x_train.shape)\n",
    "print('y_train.shape: ', y_train.shape)\n",
    "print('x_test.shape: ', x_test.shape)\n",
    "print('y_test.shape: ', y_test.shape)"
   ]
  },
  {
   "cell_type": "code",
   "execution_count": 8,
   "metadata": {},
   "outputs": [
    {
     "name": "stdout",
     "output_type": "stream",
     "text": [
      "Creating Stateful Model...\n",
      "Training\n",
      "Epoch 1 / 20\n",
      "Train on 800 samples, validate on 200 samples\n",
      "Epoch 1/1\n",
      "800/800 [==============================] - 4s 5ms/step - loss: 8.7197e-05 - val_loss: 5.9980e-06\n",
      "Best validation loss so far. Saving model as temp_stateful.h5\n",
      "Epoch 2 / 20\n",
      "Train on 800 samples, validate on 200 samples\n",
      "Epoch 1/1\n",
      "800/800 [==============================] - 3s 4ms/step - loss: 5.3993e-06 - val_loss: 2.2927e-05\n",
      "Epoch 3 / 20\n",
      "Train on 800 samples, validate on 200 samples\n",
      "Epoch 1/1\n",
      "800/800 [==============================] - 3s 4ms/step - loss: 2.2625e-05 - val_loss: 1.0535e-04\n",
      "Epoch 4 / 20\n",
      "Train on 800 samples, validate on 200 samples\n",
      "Epoch 1/1\n",
      "800/800 [==============================] - 3s 4ms/step - loss: 1.3174e-05 - val_loss: 5.4403e-07\n",
      "Best validation loss so far. Saving model as temp_stateful.h5\n",
      "Epoch 5 / 20\n",
      "Train on 800 samples, validate on 200 samples\n",
      "Epoch 1/1\n",
      "800/800 [==============================] - 3s 4ms/step - loss: 1.4499e-06 - val_loss: 7.4307e-07\n",
      "Epoch 6 / 20\n",
      "Train on 800 samples, validate on 200 samples\n",
      "Epoch 1/1\n",
      "800/800 [==============================] - 3s 4ms/step - loss: 6.4442e-05 - val_loss: 1.2651e-06\n",
      "Epoch 7 / 20\n",
      "Train on 800 samples, validate on 200 samples\n",
      "Epoch 1/1\n",
      "800/800 [==============================] - 3s 4ms/step - loss: 1.1693e-06 - val_loss: 3.7876e-07\n",
      "Best validation loss so far. Saving model as temp_stateful.h5\n",
      "Epoch 8 / 20\n",
      "Train on 800 samples, validate on 200 samples\n",
      "Epoch 1/1\n",
      "800/800 [==============================] - 3s 4ms/step - loss: 1.3548e-06 - val_loss: 2.8590e-07\n",
      "Best validation loss so far. Saving model as temp_stateful.h5\n",
      "Epoch 9 / 20\n",
      "Train on 800 samples, validate on 200 samples\n",
      "Epoch 1/1\n",
      "800/800 [==============================] - 3s 4ms/step - loss: 3.2413e-06 - val_loss: 3.1591e-06\n",
      "Epoch 10 / 20\n",
      "Train on 800 samples, validate on 200 samples\n",
      "Epoch 1/1\n",
      "800/800 [==============================] - 3s 4ms/step - loss: 1.4308e-04 - val_loss: 3.3713e-06\n",
      "Epoch 11 / 20\n",
      "Train on 800 samples, validate on 200 samples\n",
      "Epoch 1/1\n",
      "800/800 [==============================] - 3s 4ms/step - loss: 3.7809e-06 - val_loss: 2.0665e-06\n",
      "Validation loss not improving. EXITING!\n"
     ]
    }
   ],
   "source": [
    "print('Creating Stateful Model...')\n",
    "model_stateful = create_model(stateful=True)\n",
    "model_fname='temp_stateful.h5'\n",
    "\n",
    "val_loss=list()\n",
    "train_loss=list()\n",
    "patience=3\n",
    "epochs=20\n",
    "\n",
    "# val_loss=np.zeros(epochs)\n",
    "# train_loss=np.zeros(epochs)\n",
    "print('Training')\n",
    "n_last_improvement=0\n",
    "best_val_loss=np.nan\n",
    "for i in range(epochs):\n",
    "    print('Epoch', i + 1, '/', epochs)\n",
    "    # Note that the last state for sample i in a batch will\n",
    "    # be used as initial state for sample i in the next batch.\n",
    "    # Thus we are simultaneously training on batch_size series with\n",
    "    # lower resolution than the original series contained in data_input.\n",
    "    # Each of these series are offset by one step and can be\n",
    "    # extracted with data_input[i::batch_size].\n",
    "    train_hist_stateful=model_stateful.fit(x_train,\n",
    "                       y_train,\n",
    "                       batch_size=batch_size,\n",
    "                       epochs=1,\n",
    "                       verbose=1,\n",
    "                       validation_data=(x_test, y_test),\n",
    "                       shuffle=False)\n",
    "    val_loss.append(train_hist_stateful.history['val_loss'][0])\n",
    "    train_loss.append(train_hist_stateful.history['loss'][0])\n",
    "    if np.isnan(best_val_loss) or best_val_loss>val_loss[-1]:\n",
    "        # first epoch or improved performance\n",
    "        best_val_loss=val_loss[-1]\n",
    "        n_last_improvement=0\n",
    "        print('Best validation loss so far. Saving model as %s' % model_fname)\n",
    "        model_stateful.save(model_fname)\n",
    "    else:\n",
    "        # No improvment\n",
    "        n_last_improvement+=1\n",
    "    if n_last_improvement>=patience:\n",
    "        print('Validation loss not improving. EXITING!')\n",
    "        break\n",
    "        \n",
    "    \n",
    "    #val_loss[i]=train_hist_stateful.history['val_loss'][0]\n",
    "    #train_loss[i]=train_hist_stateful.history['loss'][0]\n",
    "    model_stateful.reset_states()"
   ]
  },
  {
   "cell_type": "code",
   "execution_count": null,
   "metadata": {},
   "outputs": [],
   "source": [
    "plt.figure(1)\n",
    "plt.clf()\n",
    "plt.plot(np.asarray(val_loss),'-o',label='val')\n",
    "plt.plot(np.asarray(train_loss),'-o',label='train')\n",
    "plt.legend()\n",
    "print('Best valid loss {}'.format(np.min(val_loss)))"
   ]
  },
  {
   "cell_type": "code",
   "execution_count": 9,
   "metadata": {},
   "outputs": [
    {
     "name": "stdout",
     "output_type": "stream",
     "text": [
      "Loading best model: temp_stateful.h5\n",
      "Predicting\n"
     ]
    }
   ],
   "source": [
    "print('Loading best model: %s' % model_fname)\n",
    "model_stateful=load_model(model_fname)\n",
    "print('Predicting')\n",
    "predicted_stateful = model_stateful.predict(x_test, batch_size=batch_size)"
   ]
  },
  {
   "cell_type": "code",
   "execution_count": 10,
   "metadata": {},
   "outputs": [
    {
     "data": {
      "text/plain": [
       "(200, 1)"
      ]
     },
     "execution_count": 10,
     "metadata": {},
     "output_type": "execute_result"
    }
   ],
   "source": [
    "predicted_stateful.shape"
   ]
  },
  {
   "cell_type": "code",
   "execution_count": null,
   "metadata": {},
   "outputs": [],
   "source": [
    "print('Creating Stateless Model...')\n",
    "model_stateless = create_model(stateful=False)\n",
    "\n",
    "epochs=5\n",
    "print('Training')\n",
    "train_hist_stateless=model_stateless.fit(x_train,\n",
    "                    y_train,\n",
    "                    batch_size=batch_size,\n",
    "                    epochs=epochs,\n",
    "                    verbose=1,\n",
    "                    validation_data=(x_test, y_test),\n",
    "                    shuffle=False)\n",
    "\n",
    "print('Predicting')\n",
    "predicted_stateless = model_stateless.predict(x_test, batch_size=batch_size)"
   ]
  },
  {
   "cell_type": "code",
   "execution_count": null,
   "metadata": {},
   "outputs": [],
   "source": [
    "print('Plotting Results')\n",
    "plt.subplot(3, 1, 1)\n",
    "plt.plot(y_test)\n",
    "plt.title('Expected')\n",
    "plt.subplot(3, 1, 2)\n",
    "# drop the first \"tsteps-1\" because it is not possible to predict them\n",
    "# since the \"previous\" timesteps to use do not exist\n",
    "plt.plot((y_test - predicted_stateful).flatten()[tsteps - 1:])\n",
    "plt.title('Stateful: Expected - Predicted')\n",
    "plt.subplot(3, 1, 3)\n",
    "plt.plot((y_test - predicted_stateless).flatten())\n",
    "plt.title('Stateless: Expected - Predicted')\n",
    "#plt.show()"
   ]
  },
  {
   "cell_type": "code",
   "execution_count": 12,
   "metadata": {},
   "outputs": [
    {
     "name": "stdout",
     "output_type": "stream",
     "text": [
      "Plotting Results\n"
     ]
    },
    {
     "data": {
      "text/plain": [
       "<matplotlib.legend.Legend at 0x7f1454229dd8>"
      ]
     },
     "execution_count": 12,
     "metadata": {},
     "output_type": "execute_result"
    },
    {
     "data": {
      "image/png": "[encoded data removed]",
      "text/plain": [
       "<Figure size 432x288 with 1 Axes>"
      ]
     },
     "metadata": {},
     "output_type": "display_data"
    },
    {
     "data": {
      "image/png": "[encoded data removed]",
      "text/plain": [
       "<Figure size 432x288 with 1 Axes>"
      ]
     },
     "metadata": {},
     "output_type": "display_data"
    }
   ],
   "source": [
    "print('Plotting Results')\n",
    "plt.figure(1)\n",
    "plt.clf()\n",
    "plt.plot(y_test,label='y')\n",
    "plt.plot(predicted_stateful,label='yh_sful')\n",
    "#plt.plot(predicted_stateless,label='yh_sless')\n",
    "plt.legend()\n",
    "\n",
    "n_show=20\n",
    "plt.figure(2)\n",
    "plt.clf()\n",
    "plt.plot(y_test[:n_show],label='y')\n",
    "plt.plot(predicted_stateful[:n_show],'o',label='yh_sful')\n",
    "#plt.plot(predicted_stateless[:n_show],'o',label='yh_sless')\n",
    "plt.legend()"
   ]
  },
  {
   "cell_type": "code",
   "execution_count": null,
   "metadata": {},
   "outputs": [],
   "source": []
  }
 ],
 "metadata": {
  "kernelspec": {
   "display_name": "Python 3",
   "language": "python",
   "name": "python3"
  },
  "language_info": {
   "codemirror_mode": {
    "name": "ipython",
    "version": 3
   },
   "file_extension": ".py",
   "mimetype": "text/x-python",
   "name": "python",
   "nbconvert_exporter": "python",
   "pygments_lexer": "ipython3",
   "version": "3.6.5"
  }
 },
 "nbformat": 4,
 "nbformat_minor": 2
}
