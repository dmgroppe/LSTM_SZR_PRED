{
 "cells": [
  {
   "cell_type": "markdown",
   "metadata": {},
   "source": [
    "lstm_staeful.py from the Official Keras examples"
   ]
  },
  {
   "cell_type": "code",
   "execution_count": 1,
   "metadata": {},
   "outputs": [
    {
     "name": "stderr",
     "output_type": "stream",
     "text": [
      "Using TensorFlow backend.\n",
      "/Users/davidgroppe/anaconda/lib/python3.5/importlib/_bootstrap.py:222: RuntimeWarning: compiletime version 3.6 of module 'tensorflow.python.framework.fast_tensor_util' does not match runtime version 3.5\n",
      "  return f(*args, **kwds)\n",
      "/Users/davidgroppe/anaconda/lib/python3.5/site-packages/h5py/__init__.py:36: FutureWarning: Conversion of the second argument of issubdtype from `float` to `np.floating` is deprecated. In future, it will be treated as `np.float64 == np.dtype(float).type`.\n",
      "  from ._conv import register_converters as _register_converters\n"
     ]
    }
   ],
   "source": [
    "from __future__ import print_function\n",
    "import numpy as np\n",
    "import matplotlib.pyplot as plt\n",
    "import pandas as pd\n",
    "from keras.models import Sequential\n",
    "from keras.layers import Dense, GRU\n",
    "#from keras.layers import Dense, LSTM, GRU\n",
    "from keras.models import load_model\n",
    "import scipy.io as sio\n",
    "%matplotlib inline"
   ]
  },
  {
   "cell_type": "code",
   "execution_count": 4,
   "metadata": {},
   "outputs": [
    {
     "name": "stdout",
     "output_type": "stream",
     "text": [
      "dict_keys(['__globals__', '__header__', 'smooth_data', '__version__', 'raw_data'])\n",
      "(1, 99998)\n",
      "[0.53151152 0.74133365 0.77900927 0.69553002 0.5127267 ]\n",
      "[0.89768511 0.83566866 0.60367406 0.64724735 0.2872587 ]\n",
      "49999 training tpts, 0.500000 of data\n",
      "24999 validation tpts, 0.249995 of data\n",
      "25000 test tpts, 0.250005 of data\n"
     ]
    }
   ],
   "source": [
    "# Load data and split it into train, valid, & test\n",
    "in_fname='SAMPLE_DATA/move_avg_data_wind_len3.mat'\n",
    "mat=sio.loadmat(in_fname)\n",
    "print(mat.keys())\n",
    "print(mat['smooth_data'].shape)\n",
    "print(mat['smooth_data'][0,:5])\n",
    "print(mat['raw_data'][0,:5])\n",
    "n_full_tpt=mat['smooth_data'].shape[1]\n",
    "n_train_tpt=int(np.floor(n_full_tpt*.5))\n",
    "n_valid_tpt=int(np.floor(n_full_tpt*.25))\n",
    "n_test_tpt=n_full_tpt-n_valid_tpt-n_train_tpt\n",
    "print('%d training tpts, %f of data' % (n_train_tpt, n_train_tpt/n_full_tpt))\n",
    "print('%d validation tpts, %f of data' % (n_valid_tpt, n_valid_tpt/n_full_tpt))\n",
    "print('%d test tpts, %f of data' % (n_test_tpt, n_test_tpt/n_full_tpt))\n",
    "\n",
    "x_train=mat['raw_data'][0,:n_train_tpt]\n",
    "x_valid=mat['raw_data'][0,n_train_tpt:n_train_tpt+n_valid_tpt]\n",
    "x_test=mat['raw_data'][0,n_train_tpt+n_valid_tpt:]\n",
    "y_fact=3 # for seeing how net learns with differently scaled outputs\n",
    "y_train=mat['smooth_data'][0,:n_train_tpt]*y_fact\n",
    "y_valid=mat['smooth_data'][0,n_train_tpt:n_train_tpt+n_valid_tpt]*y_fact\n",
    "y_test=mat['smooth_data'][0,n_train_tpt+n_valid_tpt:]*y_fact"
   ]
  },
  {
   "cell_type": "code",
   "execution_count": 5,
   "metadata": {},
   "outputs": [
    {
     "name": "stdout",
     "output_type": "stream",
     "text": [
      "0.9914821035363554\n",
      "2.974446310609066\n"
     ]
    },
    {
     "data": {
      "text/plain": [
       "6.019833887984025"
      ]
     },
     "execution_count": 5,
     "metadata": {},
     "output_type": "execute_result"
    }
   ],
   "source": [
    "print(np.max(mat['smooth_data']))\n",
    "print(np.max(y_train))\n",
    "1/np.std(mat['smooth_data'])"
   ]
  },
  {
   "cell_type": "code",
   "execution_count": 6,
   "metadata": {},
   "outputs": [
    {
     "name": "stdout",
     "output_type": "stream",
     "text": [
      "1\n",
      "*********************************\n",
      "STATELESS LSTM WILL NOT CONVERGE\n",
      "*********************************\n"
     ]
    }
   ],
   "source": [
    "# EDITABLE PARAMETERS\n",
    "# Read the documentation in the script head for more details\n",
    "# ----------------------------------------------------------\n",
    "\n",
    "# length of input\n",
    "input_len = 1000\n",
    "input_len=mat['smooth_data'].shape[1]\n",
    "\n",
    "# The window length of the moving average used to generate\n",
    "# the output from the input in the input/output pair used\n",
    "# to train the LSTM\n",
    "# e.g. if tsteps=2 and input=[1, 2, 3, 4, 5],\n",
    "#      then output=[1.5, 2.5, 3.5, 4.5]\n",
    "tsteps = 3\n",
    "\n",
    "# The input sequence length that the LSTM is trained on for each output point\n",
    "lahead = 2\n",
    "\n",
    "# training parameters passed to \"model.fit(...)\"\n",
    "batch_size = 1\n",
    "#batch_size = 20\n",
    "#batch_size = 200\n",
    "epochs = 25\n",
    "print(batch_size)\n",
    "\n",
    "print(\"*\" * 33)\n",
    "if lahead >= tsteps:\n",
    "    print(\"STATELESS LSTM WILL ALSO CONVERGE\")\n",
    "else:\n",
    "    print(\"STATELESS LSTM WILL NOT CONVERGE\")\n",
    "print(\"*\" * 33)"
   ]
  },
  {
   "cell_type": "code",
   "execution_count": 14,
   "metadata": {},
   "outputs": [],
   "source": [
    "# Input shape: (1000, 3)\n",
    "# Output shape: (1000, 1)\n",
    "# Input head: \n",
    "#           0         1         2\n",
    "# 3  0.079500  0.021696 -0.084532\n",
    "# 4  0.008981  0.079500  0.021696\n",
    "# 5  0.040544  0.008981  0.079500\n",
    "# 6 -0.022773  0.040544  0.008981\n",
    "# 7  0.030332 -0.022773  0.040544\n",
    "# Output head: \n",
    "#           0\n",
    "# 3  0.007610\n",
    "# 4  0.006411\n",
    "# 5  0.037680\n",
    "# 6  0.026563\n",
    "# 7  0.014271\n"
   ]
  },
  {
   "cell_type": "code",
   "execution_count": 7,
   "metadata": {},
   "outputs": [],
   "source": [
    "def get_data_clip(x,y,n_clip_tpt,n_wind):\n",
    "    n_tpt=len(x)\n",
    "    print(n_tpt)\n",
    "    x_clip=np.zeros((n_clip_tpt,n_wind,1))\n",
    "    y_clip=np.zeros((n_clip_tpt,1))\n",
    "    start_id=np.random.randint(0,n_tpt-n_clip_tpt)\n",
    "    #start_id=0\n",
    "    print('start_id: {}'.format(start_id))\n",
    "    for ct, cursor in enumerate(range(start_id,start_id+n_clip_tpt)):\n",
    "        x_clip[ct,:,0]=x[cursor:cursor+n_wind]\n",
    "        y_clip[ct,0]=y[cursor+int(np.floor(n_wind/2))]\n",
    "        #x_clip[ct,:,0]=x[0,cursor:cursor+n_wind]\n",
    "        #y_clip[ct,0]=y[0,cursor+int(np.floor(n_wind/2))]\n",
    "    x_clip=np.flip(x_clip,1)\n",
    "    return x_clip, y_clip"
   ]
  },
  {
   "cell_type": "code",
   "execution_count": 8,
   "metadata": {},
   "outputs": [
    {
     "name": "stdout",
     "output_type": "stream",
     "text": [
      "49999\n",
      "start_id: 34549\n",
      "(10, 3, 1)\n",
      "(10, 1)\n",
      "[[0.9962018  0.39415832 0.41097827]\n",
      " [0.14017481 0.9962018  0.39415832]\n",
      " [0.23579765 0.14017481 0.9962018 ]]\n",
      "[0.84383338 1.80133838 1.53053492]\n",
      "\n",
      "[0.89768511 0.83566866 0.60367406 0.64724735]\n",
      "[1.59453457 2.22400095 2.33702782 2.08659006]\n"
     ]
    }
   ],
   "source": [
    "n_clip_tpt=10\n",
    "n_wind=3\n",
    "x_clip, y_clip=get_data_clip(x_train,y_train,n_clip_tpt,n_wind)\n",
    "print(x_clip.shape)\n",
    "print(y_clip.shape)\n",
    "print(np.squeeze(x_clip[0:3,:]))\n",
    "print(np.squeeze(y_clip[0:3]))\n",
    "print()\n",
    "print(x_train[0:4])\n",
    "print(y_train[0:4])"
   ]
  },
  {
   "cell_type": "code",
   "execution_count": 9,
   "metadata": {},
   "outputs": [
    {
     "name": "stdout",
     "output_type": "stream",
     "text": [
      "[0.89768511 0.83566866 0.60367406 0.64724735 0.2872587 ]\n",
      "[0.53151152 0.74133365 0.77900927 0.69553002 0.5127267 ]\n"
     ]
    }
   ],
   "source": [
    "print(mat['raw_data'][0,:5])\n",
    "print(mat['smooth_data'][0,:5])"
   ]
  },
  {
   "cell_type": "code",
   "execution_count": 10,
   "metadata": {},
   "outputs": [],
   "source": [
    "# Function for creating model\n",
    "def create_model(stateful):\n",
    "    model = Sequential()\n",
    "    model.add(GRU(60,\n",
    "              #input_shape=(lahead, 1),\n",
    "              input_shape=(n_wind, 1),\n",
    "              batch_size=batch_size,\n",
    "              stateful=stateful))\n",
    "    #20=# of hidden units\n",
    "    model.add(Dense(1))\n",
    "    model.compile(loss='mse', optimizer='adam')\n",
    "    model.summary()\n",
    "    return model"
   ]
  },
  {
   "cell_type": "code",
   "execution_count": 11,
   "metadata": {},
   "outputs": [
    {
     "name": "stdout",
     "output_type": "stream",
     "text": [
      "(49999,)\n",
      "(49999,)\n"
     ]
    },
    {
     "ename": "NameError",
     "evalue": "name 'x_train_clip' is not defined",
     "output_type": "error",
     "traceback": [
      "\u001b[0;31m---------------------------------------------------------------------------\u001b[0m",
      "\u001b[0;31mNameError\u001b[0m                                 Traceback (most recent call last)",
      "\u001b[0;32m<ipython-input-11-9e91b2ed1742>\u001b[0m in \u001b[0;36m<module>\u001b[0;34m()\u001b[0m\n\u001b[1;32m      1\u001b[0m \u001b[0mprint\u001b[0m\u001b[0;34m(\u001b[0m\u001b[0mx_train\u001b[0m\u001b[0;34m.\u001b[0m\u001b[0mshape\u001b[0m\u001b[0;34m)\u001b[0m\u001b[0;34m\u001b[0m\u001b[0m\n\u001b[1;32m      2\u001b[0m \u001b[0mprint\u001b[0m\u001b[0;34m(\u001b[0m\u001b[0my_train\u001b[0m\u001b[0;34m.\u001b[0m\u001b[0mshape\u001b[0m\u001b[0;34m)\u001b[0m\u001b[0;34m\u001b[0m\u001b[0m\n\u001b[0;32m----> 3\u001b[0;31m \u001b[0mprint\u001b[0m\u001b[0;34m(\u001b[0m\u001b[0mx_train_clip\u001b[0m\u001b[0;34m.\u001b[0m\u001b[0mshape\u001b[0m\u001b[0;34m)\u001b[0m\u001b[0;34m\u001b[0m\u001b[0m\n\u001b[0m\u001b[1;32m      4\u001b[0m \u001b[0mprint\u001b[0m\u001b[0;34m(\u001b[0m\u001b[0my_train_clip\u001b[0m\u001b[0;34m.\u001b[0m\u001b[0mshape\u001b[0m\u001b[0;34m)\u001b[0m\u001b[0;34m\u001b[0m\u001b[0m\n\u001b[1;32m      5\u001b[0m \u001b[0mprint\u001b[0m\u001b[0;34m(\u001b[0m\u001b[0mx_valid_clip\u001b[0m\u001b[0;34m.\u001b[0m\u001b[0mshape\u001b[0m\u001b[0;34m)\u001b[0m\u001b[0;34m\u001b[0m\u001b[0m\n",
      "\u001b[0;31mNameError\u001b[0m: name 'x_train_clip' is not defined"
     ]
    }
   ],
   "source": [
    "print(x_train.shape)\n",
    "print(y_train.shape)\n",
    "print(x_train_clip.shape)\n",
    "print(y_train_clip.shape)\n",
    "print(x_valid_clip.shape)\n",
    "print(y_valid_clip.shape)"
   ]
  },
  {
   "cell_type": "code",
   "execution_count": 12,
   "metadata": {},
   "outputs": [
    {
     "name": "stdout",
     "output_type": "stream",
     "text": [
      "Creating Stateful Model...\n",
      "WARNING:tensorflow:From /Users/davidgroppe/anaconda/lib/python3.5/site-packages/keras/backend/tensorflow_backend.py:1123: calling reduce_mean (from tensorflow.python.ops.math_ops) with keep_dims is deprecated and will be removed in a future version.\n",
      "Instructions for updating:\n",
      "keep_dims is deprecated, use keepdims instead\n",
      "_________________________________________________________________\n",
      "Layer (type)                 Output Shape              Param #   \n",
      "=================================================================\n",
      "gru_1 (GRU)                  (1, 60)                   11160     \n",
      "_________________________________________________________________\n",
      "dense_1 (Dense)              (1, 1)                    61        \n",
      "=================================================================\n",
      "Total params: 11,221.0\n",
      "Trainable params: 11,221\n",
      "Non-trainable params: 0.0\n",
      "_________________________________________________________________\n",
      "Training\n",
      "Epoch 1 / 25\n",
      "49999\n",
      "start_id: 23861\n",
      "24999\n",
      "start_id: 11997\n",
      "Train on 800 samples, validate on 200 samples\n",
      "Epoch 1/1\n",
      "800/800 [==============================] - 3s - loss: 0.1164 - val_loss: 0.0448\n",
      "Best validation loss so far. Saving model as temp_stateful.h5\n",
      "Epoch 2 / 25\n",
      "49999\n",
      "start_id: 23524\n",
      "24999\n",
      "start_id: 578\n",
      "Train on 800 samples, validate on 200 samples\n",
      "Epoch 1/1\n",
      "800/800 [==============================] - 2s - loss: 0.0621 - val_loss: 0.0744\n",
      "Epoch 3 / 25\n",
      "49999\n",
      "start_id: 24310\n",
      "24999\n",
      "start_id: 11299\n",
      "Train on 800 samples, validate on 200 samples\n",
      "Epoch 1/1\n",
      "800/800 [==============================] - 2s - loss: 0.0600 - val_loss: 0.0661\n",
      "Epoch 4 / 25\n",
      "49999\n",
      "start_id: 4142\n",
      "24999\n",
      "start_id: 16979\n",
      "Train on 800 samples, validate on 200 samples\n",
      "Epoch 1/1\n",
      "800/800 [==============================] - 2s - loss: 0.0438 - val_loss: 0.0096\n",
      "Best validation loss so far. Saving model as temp_stateful.h5\n",
      "Epoch 5 / 25\n",
      "49999\n",
      "start_id: 13860\n",
      "24999\n",
      "start_id: 13132\n",
      "Train on 800 samples, validate on 200 samples\n",
      "Epoch 1/1\n",
      "800/800 [==============================] - 3s - loss: 0.0052 - val_loss: 0.0093\n",
      "Best validation loss so far. Saving model as temp_stateful.h5\n",
      "Epoch 6 / 25\n",
      "49999\n",
      "start_id: 16252\n",
      "24999\n",
      "start_id: 21011\n",
      "Train on 800 samples, validate on 200 samples\n",
      "Epoch 1/1\n",
      "800/800 [==============================] - 2s - loss: 0.0021 - val_loss: 0.0047\n",
      "Best validation loss so far. Saving model as temp_stateful.h5\n",
      "Epoch 7 / 25\n",
      "49999\n",
      "start_id: 138\n",
      "24999\n",
      "start_id: 10070\n",
      "Train on 800 samples, validate on 200 samples\n",
      "Epoch 1/1\n",
      "800/800 [==============================] - 2s - loss: 0.0028 - val_loss: 0.0035\n",
      "Best validation loss so far. Saving model as temp_stateful.h5\n",
      "Epoch 8 / 25\n",
      "49999\n",
      "start_id: 7114\n",
      "24999\n",
      "start_id: 230\n",
      "Train on 800 samples, validate on 200 samples\n",
      "Epoch 1/1\n",
      "800/800 [==============================] - 3s - loss: 0.0034 - val_loss: 0.0039\n",
      "Epoch 9 / 25\n",
      "49999\n",
      "start_id: 35569\n",
      "24999\n",
      "start_id: 9258\n",
      "Train on 800 samples, validate on 200 samples\n",
      "Epoch 1/1\n",
      "800/800 [==============================] - 3s - loss: 0.0019 - val_loss: 0.0020\n",
      "Best validation loss so far. Saving model as temp_stateful.h5\n",
      "Epoch 10 / 25\n",
      "49999\n",
      "start_id: 13875\n",
      "24999\n",
      "start_id: 10956\n",
      "Train on 800 samples, validate on 200 samples\n",
      "Epoch 1/1\n",
      "800/800 [==============================] - 3s - loss: 0.0083 - val_loss: 0.0012\n",
      "Best validation loss so far. Saving model as temp_stateful.h5\n",
      "Epoch 11 / 25\n",
      "49999\n",
      "start_id: 19962\n",
      "24999\n",
      "start_id: 11828\n",
      "Train on 800 samples, validate on 200 samples\n",
      "Epoch 1/1\n",
      "800/800 [==============================] - 2s - loss: 0.0023 - val_loss: 8.2787e-04\n",
      "Best validation loss so far. Saving model as temp_stateful.h5\n",
      "Epoch 12 / 25\n",
      "49999\n",
      "start_id: 8889\n",
      "24999\n",
      "start_id: 9874\n",
      "Train on 800 samples, validate on 200 samples\n",
      "Epoch 1/1\n",
      "800/800 [==============================] - 2s - loss: 0.0013 - val_loss: 0.0018\n",
      "Epoch 13 / 25\n",
      "49999\n",
      "start_id: 2479\n",
      "24999\n",
      "start_id: 20743\n",
      "Train on 800 samples, validate on 200 samples\n",
      "Epoch 1/1\n",
      "800/800 [==============================] - 2s - loss: 0.0013 - val_loss: 7.3099e-04\n",
      "Best validation loss so far. Saving model as temp_stateful.h5\n",
      "Epoch 14 / 25\n",
      "49999\n",
      "start_id: 4067\n",
      "24999\n",
      "start_id: 13428\n",
      "Train on 800 samples, validate on 200 samples\n",
      "Epoch 1/1\n",
      "800/800 [==============================] - 2s - loss: 0.0011 - val_loss: 6.2226e-04\n",
      "Best validation loss so far. Saving model as temp_stateful.h5\n",
      "Epoch 15 / 25\n",
      "49999\n",
      "start_id: 22218\n",
      "24999\n",
      "start_id: 18125\n",
      "Train on 800 samples, validate on 200 samples\n",
      "Epoch 1/1\n",
      "800/800 [==============================] - 2s - loss: 0.0023 - val_loss: 0.0010\n",
      "Epoch 16 / 25\n",
      "49999\n",
      "start_id: 34355\n",
      "24999\n",
      "start_id: 13352\n",
      "Train on 800 samples, validate on 200 samples\n",
      "Epoch 1/1\n",
      "800/800 [==============================] - 2s - loss: 0.0026 - val_loss: 0.0011\n",
      "Epoch 17 / 25\n",
      "49999\n",
      "start_id: 34369\n",
      "24999\n",
      "start_id: 16499\n",
      "Train on 800 samples, validate on 200 samples\n",
      "Epoch 1/1\n",
      "800/800 [==============================] - 2s - loss: 0.0028 - val_loss: 0.0047\n",
      "Validation loss not improving. EXITING!\n"
     ]
    }
   ],
   "source": [
    "print('Creating Stateful Model...')\n",
    "#model_stateful = create_model(stateful=False)\n",
    "model_stateful = create_model(stateful=True)\n",
    "model_fname='temp_stateful.h5'\n",
    "val_loss=list()\n",
    "train_loss=list()\n",
    "patience=3\n",
    "n_wind=3\n",
    "\n",
    "# val_loss=np.zeros(epochs)\n",
    "# train_loss=np.zeros(epochs)\n",
    "print('Training')\n",
    "n_last_improvement=0\n",
    "best_val_loss=np.nan\n",
    "for i in range(epochs):\n",
    "    print('Epoch', i + 1, '/', epochs)\n",
    "    # Note that the last state for sample i in a batch will\n",
    "    # be used as initial state for sample i in the next batch.\n",
    "    # Thus we are simultaneously training on batch_size series with\n",
    "    # lower resolution than the original series contained in data_input.\n",
    "    # Each of these series are offset by one step and can be\n",
    "    # extracted with data_input[i::batch_size].\n",
    "    n_clip_tpt=800\n",
    "    x_train_clip, y_train_clip=get_data_clip(x_train,y_train,n_clip_tpt,n_wind)\n",
    "    n_clip_tpt=200\n",
    "    x_valid_clip, y_valid_clip=get_data_clip(x_valid,y_valid,n_clip_tpt,n_wind)\n",
    "    train_hist_stateful=model_stateful.fit(x_train_clip,\n",
    "                       y_train_clip,\n",
    "                       batch_size=batch_size,\n",
    "                       epochs=1,\n",
    "                       verbose=1,\n",
    "                       validation_data=(x_valid_clip, y_valid_clip),\n",
    "                       shuffle=False)\n",
    "    val_loss.append(train_hist_stateful.history['val_loss'][0])\n",
    "    train_loss.append(train_hist_stateful.history['loss'][0])\n",
    "    if np.isnan(best_val_loss) or best_val_loss>val_loss[-1]:\n",
    "        # first epoch or improved performance\n",
    "        best_val_loss=val_loss[-1]\n",
    "        n_last_improvement=0\n",
    "        print('Best validation loss so far. Saving model as %s' % model_fname)\n",
    "        model_stateful.save(model_fname)\n",
    "    else:\n",
    "        # No improvment\n",
    "        n_last_improvement+=1\n",
    "    if n_last_improvement>=patience:\n",
    "        print('Validation loss not improving. EXITING!')\n",
    "        break\n",
    "        \n",
    "    \n",
    "    #val_loss[i]=train_hist_stateful.history['val_loss'][0]\n",
    "    #train_loss[i]=train_hist_stateful.history['loss'][0]\n",
    "    model_stateful.reset_states()"
   ]
  },
  {
   "cell_type": "code",
   "execution_count": 13,
   "metadata": {},
   "outputs": [
    {
     "name": "stdout",
     "output_type": "stream",
     "text": [
      "Best valid loss 0.0006222581832297181\n"
     ]
    },
    {
     "data": {
      "image/png": "[encoded data removed]",
      "text/plain": [
       "<Figure size 432x288 with 1 Axes>"
      ]
     },
     "metadata": {},
     "output_type": "display_data"
    }
   ],
   "source": [
    "plt.figure(1)\n",
    "plt.clf()\n",
    "plt.plot(np.asarray(val_loss),'-o',label='val')\n",
    "plt.plot(np.asarray(train_loss),'-o',label='train')\n",
    "plt.legend()\n",
    "print('Best valid loss {}'.format(np.min(val_loss)))"
   ]
  },
  {
   "cell_type": "code",
   "execution_count": 14,
   "metadata": {},
   "outputs": [
    {
     "name": "stdout",
     "output_type": "stream",
     "text": [
      "Loading best model: temp_stateful.h5\n",
      "25000\n",
      "start_id: 18253\n",
      "Predicting\n"
     ]
    }
   ],
   "source": [
    "print('Loading best model: %s' % model_fname)\n",
    "model_stateful=load_model(model_fname)\n",
    "\n",
    "n_clip_tpt=1000\n",
    "x_test_clip, y_test_clip=get_data_clip(x_test,y_test,n_clip_tpt,n_wind)\n",
    "\n",
    "print('Predicting')\n",
    "predicted_stateful = model_stateful.predict(x_test_clip, batch_size=batch_size)"
   ]
  },
  {
   "cell_type": "code",
   "execution_count": 15,
   "metadata": {},
   "outputs": [
    {
     "name": "stdout",
     "output_type": "stream",
     "text": [
      "Plotting Results\n"
     ]
    },
    {
     "data": {
      "text/plain": [
       "<matplotlib.legend.Legend at 0x1226d3710>"
      ]
     },
     "execution_count": 15,
     "metadata": {},
     "output_type": "execute_result"
    },
    {
     "data": {
      "image/png": "[encoded data removed]",
      "text/plain": [
       "<Figure size 432x288 with 1 Axes>"
      ]
     },
     "metadata": {},
     "output_type": "display_data"
    },
    {
     "data": {
      "image/png": "[encoded data removed]",
      "text/plain": [
       "<Figure size 432x288 with 1 Axes>"
      ]
     },
     "metadata": {},
     "output_type": "display_data"
    }
   ],
   "source": [
    "print('Plotting Results')\n",
    "plt.figure(1)\n",
    "plt.clf()\n",
    "plt.plot(y_test_clip,label='y')\n",
    "plt.plot(predicted_stateful,label='yh_sful')\n",
    "#plt.plot(predicted_stateless,label='yh_sless')\n",
    "plt.legend()\n",
    "\n",
    "n_show=20\n",
    "plt.figure(2)\n",
    "plt.clf()\n",
    "plt.plot(y_test_clip[:n_show],label='y')\n",
    "plt.plot(predicted_stateful[:n_show],'o',label='yh_sful')\n",
    "#plt.plot(predicted_stateless[:n_show],'o',label='yh_sless')\n",
    "plt.legend()"
   ]
  },
  {
   "cell_type": "code",
   "execution_count": null,
   "metadata": {},
   "outputs": [],
   "source": []
  }
 ],
 "metadata": {
  "anaconda-cloud": {},
  "kernelspec": {
   "display_name": "Python [default]",
   "language": "python",
   "name": "python3"
  },
  "language_info": {
   "codemirror_mode": {
    "name": "ipython",
    "version": 3
   },
   "file_extension": ".py",
   "mimetype": "text/x-python",
   "name": "python",
   "nbconvert_exporter": "python",
   "pygments_lexer": "ipython3",
   "version": "3.5.3"
  }
 },
 "nbformat": 4,
 "nbformat_minor": 2
}
